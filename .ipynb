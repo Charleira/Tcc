{
 "cells": [
  {
   "cell_type": "code",
   "execution_count": null,
   "metadata": {},
   "outputs": [
    {
     "name": "stdout",
     "output_type": "stream",
     "text": [
      "\n",
      "🔄 Atualizando análise...\n"
     ]
    },
    {
     "name": "stderr",
     "output_type": "stream",
     "text": [
      "[*********************100%***********************]  1 of 1 completed\n"
     ]
    },
    {
     "name": "stdout",
     "output_type": "stream",
     "text": [
      "Última linha: Price           Ticker\n",
      "Close           AAPL      2.328000e+02\n",
      "High            AAPL      2.331300e+02\n",
      "Low             AAPL      2.266500e+02\n",
      "Open            AAPL      2.272000e+02\n",
      "Volume          AAPL      4.448913e+07\n",
      "SMA_10                    2.312150e+02\n",
      "SMA_20                    2.332670e+02\n",
      "RSI                       4.544721e+01\n",
      "Bollinger_High            2.467558e+02\n",
      "Bollinger_Low             2.197782e+02\n",
      "Name: 2025-02-04 00:00:00, dtype: float64\n",
      "Valor do RSI: 45.447213548750966\n",
      "\n",
      "📊 Recomendação baseada nos indicadores:\n",
      "Nenhuma recomendação clara no momento.\n",
      "\n",
      "🔄 Atualizando análise...\n"
     ]
    },
    {
     "name": "stderr",
     "output_type": "stream",
     "text": [
      "[*********************100%***********************]  1 of 1 completed\n"
     ]
    },
    {
     "name": "stdout",
     "output_type": "stream",
     "text": [
      "Última linha: Price           Ticker\n",
      "Close           AAPL      2.328000e+02\n",
      "High            AAPL      2.331300e+02\n",
      "Low             AAPL      2.266500e+02\n",
      "Open            AAPL      2.272000e+02\n",
      "Volume          AAPL      4.448913e+07\n",
      "SMA_10                    2.312150e+02\n",
      "SMA_20                    2.332670e+02\n",
      "RSI                       4.544721e+01\n",
      "Bollinger_High            2.467558e+02\n",
      "Bollinger_Low             2.197782e+02\n",
      "Name: 2025-02-04 00:00:00, dtype: float64\n",
      "Valor do RSI: 45.447213548750966\n",
      "\n",
      "📊 Recomendação baseada nos indicadores:\n",
      "Nenhuma recomendação clara no momento.\n"
     ]
    }
   ],
   "source": [
    "import yfinance as yf\n",
    "import pandas as pd\n",
    "import ta\n",
    "import time\n",
    "\n",
    "# Baixar os últimos 30 dias de dados da Apple\n",
    "ticker = \"AAPL\"\n",
    "def coletar_dados():\n",
    "    dados = yf.download(ticker, period=\"30d\", interval=\"1d\")\n",
    "\n",
    "    # Garantir que \"Close\" seja uma série 1D\n",
    "    dados[\"Close\"] = dados[\"Close\"].astype(float).squeeze()\n",
    "\n",
    "    # Calcular a Média Móvel Simples (SMA) de 10 e 20 dias\n",
    "    dados[\"SMA_10\"] = dados[\"Close\"].rolling(window=10).mean()\n",
    "    dados[\"SMA_20\"] = dados[\"Close\"].rolling(window=20).mean()\n",
    "\n",
    "    # Calcular o RSI (Relative Strength Index) de 14 dias\n",
    "    rsi_indicator = ta.momentum.RSIIndicator(close=dados[\"Close\"].squeeze(), window=14)\n",
    "    dados[\"RSI\"] = rsi_indicator.rsi()\n",
    "\n",
    "    # Calcular as Bandas de Bollinger (20 dias)\n",
    "    bollinger = ta.volatility.BollingerBands(close=dados[\"Close\"].squeeze(), window=20)\n",
    "    dados[\"Bollinger_High\"] = bollinger.bollinger_hband()\n",
    "    dados[\"Bollinger_Low\"] = bollinger.bollinger_lband()\n",
    "    return dados\n",
    "\n",
    "def gerar_recomendacao(df):\n",
    "    if len(df) < 20:\n",
    "        return \"Dados insuficientes para análise.\"\n",
    "\n",
    "    ult_linha = df.iloc[-1]  # Última linha corretamente indexada\n",
    "    recomendacoes = []\n",
    "\n",
    "    # 🔹 Verificando se \"RSI\" existe e não é NaN antes da análise\n",
    "    if \"RSI\" in df.columns:\n",
    "        rsi_valor = ult_linha[\"RSI\"].values[0] if isinstance(ult_linha[\"RSI\"], pd.Series) else ult_linha[\"RSI\"]\n",
    "        print(\"Última linha:\", ult_linha)  # Debugging: print the last row\n",
    "        print(\"Valor do RSI:\", rsi_valor)  # Debugging: print the RSI value\n",
    "        \n",
    "        if isinstance(rsi_valor, (float, int)) and not pd.isna(rsi_valor):  # Verificando se o valor não é NaN\n",
    "            if rsi_valor < 30:\n",
    "                recomendacoes.append(\"RSI indica COMPRA (ativo sobrevendido).\")\n",
    "            elif rsi_valor > 70:\n",
    "                recomendacoes.append(\"RSI indica VENDA (ativo sobrecomprado).\")\n",
    "            \n",
    "    # 🔹 Verificando cruzamento de médias móveis\n",
    "    if len(df) > 1:\n",
    "        prev_linha = df.iloc[-2]\n",
    "        sma_10_prev = prev_linha[\"SMA_10\"].values[0] if isinstance(prev_linha[\"SMA_10\"], pd.Series) else prev_linha[\"SMA_10\"]\n",
    "        sma_20_prev = prev_linha[\"SMA_20\"].values[0] if isinstance(prev_linha[\"SMA_20\"], pd.Series) else prev_linha[\"SMA_20\"]\n",
    "        sma_10_ult = ult_linha[\"SMA_10\"].values[0] if isinstance(ult_linha[\"SMA_10\"], pd.Series) else ult_linha[\"SMA_10\"]\n",
    "        sma_20_ult = ult_linha[\"SMA_20\"].values[0] if isinstance(ult_linha[\"SMA_20\"], pd.Series) else ult_linha[\"SMA_20\"]\n",
    "\n",
    "        if sma_10_prev < sma_20_prev and sma_10_ult > sma_20_ult:\n",
    "            recomendacoes.append(\"Cruzamento de Médias Móveis indica COMPRA.\")\n",
    "        elif sma_10_prev > sma_20_prev and sma_10_ult < sma_20_ult:\n",
    "            recomendacoes.append(\"Cruzamento de Médias Móveis indica VENDA.\")\n",
    "\n",
    "    # 🔹 Analisando Bandas de Bollinger\n",
    "    if \"Close\" in df.columns and \"Bollinger_Low\" in df.columns and \"Bollinger_High\" in df.columns:\n",
    "        close_valor = ult_linha[\"Close\"].values[0] if isinstance(ult_linha[\"Close\"], pd.Series) else ult_linha[\"Close\"]\n",
    "        bollinger_low = ult_linha[\"Bollinger_Low\"].values[0] if isinstance(ult_linha[\"Bollinger_Low\"], pd.Series) else ult_linha[\"Bollinger_Low\"]\n",
    "        bollinger_high = ult_linha[\"Bollinger_High\"].values[0] if isinstance(ult_linha[\"Bollinger_High\"], pd.Series) else ult_linha[\"Bollinger_High\"]\n",
    "\n",
    "        if close_valor < bollinger_low:\n",
    "            recomendacoes.append(\"Banda de Bollinger indica COMPRA (preço abaixo da banda inferior).\")\n",
    "        elif close_valor > bollinger_high:\n",
    "            recomendacoes.append(\"Banda de Bollinger indica VENDA (preço acima da banda superior).\")\n",
    "    \n",
    "    return \"\\n\".join(recomendacoes) if recomendacoes else \"Nenhuma recomendação clara no momento.\"\n",
    "\n",
    "# Supondo que 'dados' seja o seu DataFrame\n",
    "while True:\n",
    "    print(\"\\n🔄 Atualizando análise...\")\n",
    "    dados = coletar_dados()\n",
    "    \n",
    "    if dados is not None:\n",
    "        recomendacao = gerar_recomendacao(dados)\n",
    "        print(\"\\n📊 Recomendação baseada nos indicadores:\")\n",
    "        print(recomendacao)\n",
    "    else:\n",
    "        print(\"⚠ Erro ao coletar dados. Tentando novamente...\")\n",
    "\n",
    "    time.sleep(60)  # Aguarda 60 segundos antes da próxima análise"
   ]
  }
 ],
 "metadata": {
  "kernelspec": {
   "display_name": "Python 3",
   "language": "python",
   "name": "python3"
  },
  "language_info": {
   "codemirror_mode": {
    "name": "ipython",
    "version": 3
   },
   "file_extension": ".py",
   "mimetype": "text/x-python",
   "name": "python",
   "nbconvert_exporter": "python",
   "pygments_lexer": "ipython3",
   "version": "3.12.8"
  }
 },
 "nbformat": 4,
 "nbformat_minor": 2
}
